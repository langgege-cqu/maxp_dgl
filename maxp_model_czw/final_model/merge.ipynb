{
 "cells": [
  {
   "cell_type": "code",
   "execution_count": 1,
   "id": "confirmed-vitamin",
   "metadata": {},
   "outputs": [],
   "source": [
    "import pickle\n",
    "import numpy as np\n",
    "import pandas as pd"
   ]
  },
  {
   "cell_type": "code",
   "execution_count": 2,
   "id": "southeast-mainstream",
   "metadata": {},
   "outputs": [],
   "source": [
    "def softmax(x):\n",
    "    f_x = np.exp(x) / np.sum(np.exp(x), axis=-1, keepdims=True)\n",
    "    return f_x\n",
    "\n",
    "def id2name(x):\n",
    "    return chr(x + 65)"
   ]
  },
  {
   "cell_type": "code",
   "execution_count": 3,
   "id": "champion-velvet",
   "metadata": {},
   "outputs": [],
   "source": [
    "with open('final_dataset/label_split1.pkl', 'rb') as f:\n",
    "    label_data = pickle.load(f)\n",
    "test_nid = label_data['test_label_idx']\n",
    "\n",
    "nodes_df = pd.read_csv('final_dataset/IDandLabels.csv', dtype={'Label':str})"
   ]
  },
  {
   "cell_type": "code",
   "execution_count": null,
   "id": "treated-wrestling",
   "metadata": {},
   "outputs": [],
   "source": []
  },
  {
   "cell_type": "code",
   "execution_count": 4,
   "id": "hazardous-garbage",
   "metadata": {},
   "outputs": [],
   "source": [
    "data1 = np.load('models/deepwalk1/unimp_split1/unimp_split1_epoch23_val6343.npy')\n",
    "data1 = softmax(data1)\n",
    "data2 = np.load('models/deepwalk1/unimp_split2/unimp_split2_epoch27_val6317.npy')\n",
    "data2 = softmax(data2)\n",
    "data3 = np.load('models/deepwalk1/unimp_split3/unimp_split3_epoch24_val6347.npy')\n",
    "data3 = softmax(data3)\n",
    "data4 = np.load('models/deepwalk1/unimp_split4/unimp_split4_epoch27_val6308.npy')\n",
    "data4 = softmax(data4)\n",
    "data5 = np.load('models/deepwalk1/unimp_split5/unimp_split5_epoch16_val6192.npy')\n",
    "data5 = softmax(data5)"
   ]
  },
  {
   "cell_type": "code",
   "execution_count": 5,
   "id": "alpha-nickname",
   "metadata": {},
   "outputs": [],
   "source": [
    "data6 = np.load('models/deepwalk2/unimp_split1/unimp_split1_epoch22_val6339.npy')\n",
    "data6 = softmax(data6)\n",
    "data7 = np.load('models/deepwalk2/unimp_split2/unimp_split2_epoch21_val6328.npy')\n",
    "data7 = softmax(data7)\n",
    "data8 = np.load('models/deepwalk2/unimp_split3/unimp_split3_epoch20_val6341.npy')\n",
    "data8 = softmax(data8)\n",
    "data9 = np.load('models/deepwalk2/unimp_split4/unimp_split4_epoch21_val6306.npy')\n",
    "data9 = softmax(data9)\n",
    "data10 = np.load('models/deepwalk2/unimp_split5/unimp_split5_epoch17_val6200.npy')\n",
    "data10 = softmax(data10)"
   ]
  },
  {
   "cell_type": "code",
   "execution_count": null,
   "id": "liable-radiation",
   "metadata": {},
   "outputs": [],
   "source": []
  },
  {
   "cell_type": "code",
   "execution_count": 6,
   "id": "confirmed-science",
   "metadata": {},
   "outputs": [],
   "source": [
    "result = 0\n",
    "result = result + data1 + data2 + data3 + data4\n",
    "# result = result + data6 + data7 + data8 + data9"
   ]
  },
  {
   "cell_type": "code",
   "execution_count": 7,
   "id": "posted-prescription",
   "metadata": {},
   "outputs": [],
   "source": [
    "df = pd.DataFrame({'node_idx': test_nid, 'label': np.argmax(result, axis=-1)})\n",
    "df['label'] = df['label'].apply(id2name)\n",
    "\n",
    "mged = pd.merge(df, nodes_df[['node_idx', 'paper_id']], on='node_idx', how='left')"
   ]
  },
  {
   "cell_type": "code",
   "execution_count": 8,
   "id": "fatty-privilege",
   "metadata": {},
   "outputs": [],
   "source": [
    "pd.DataFrame({'id': mged['paper_id'], 'label': mged['label']}).to_csv('merge.csv', index=False)"
   ]
  },
  {
   "cell_type": "code",
   "execution_count": null,
   "id": "entertaining-mechanism",
   "metadata": {},
   "outputs": [],
   "source": []
  },
  {
   "cell_type": "code",
   "execution_count": null,
   "id": "falling-watts",
   "metadata": {},
   "outputs": [],
   "source": []
  }
 ],
 "metadata": {
  "kernelspec": {
   "display_name": "Python 3",
   "language": "python",
   "name": "python3"
  },
  "language_info": {
   "codemirror_mode": {
    "name": "ipython",
    "version": 3
   },
   "file_extension": ".py",
   "mimetype": "text/x-python",
   "name": "python",
   "nbconvert_exporter": "python",
   "pygments_lexer": "ipython3",
   "version": "3.7.10"
  }
 },
 "nbformat": 4,
 "nbformat_minor": 5
}
