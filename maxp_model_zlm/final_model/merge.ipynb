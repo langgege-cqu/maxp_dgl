{
 "cells": [
  {
   "cell_type": "code",
   "execution_count": 1,
   "metadata": {},
   "outputs": [
    {
     "data": {
      "text/plain": [
       "((4, 1691144, 23), (5, 1691144, 23), (5, 1691144, 23))"
      ]
     },
     "execution_count": 1,
     "metadata": {},
     "output_type": "execute_result"
    }
   ],
   "source": [
    "import numpy as np\n",
    "path_1 = 'dgl_models/final/deepwalk1_gat1_se/deepwalk1_gat1_se_4_fold.npy'\n",
    "path_2 = 'dgl_models/final/deepwalk1_gatv2_attn_order.npy'\n",
    "path_3 = 'dgl_models/final/unicmp_shuffle_labels_edges10_deepwalk_gatv2_softmax.npy'\n",
    "result_1 = np.load(path_1)\n",
    "result_2 = np.load(path_2)\n",
    "result_3 = np.load(path_3)\n",
    "result_1.shape, result_2.shape, result_3.shape"
   ]
  },
  {
   "cell_type": "code",
   "execution_count": 2,
   "metadata": {},
   "outputs": [
    {
     "data": {
      "text/plain": [
       "(1691144, 23)"
      ]
     },
     "execution_count": 2,
     "metadata": {},
     "output_type": "execute_result"
    }
   ],
   "source": [
    "result_1 = np.mean(result_1[:4], axis=0)\n",
    "result_2 = np.mean(result_2[:4], axis=0)\n",
    "result_3 = np.mean(result_3[:5], axis=0)\n",
    "result = result_1 + result_2 + result_3\n",
    "result.shape"
   ]
  },
  {
   "cell_type": "code",
   "execution_count": 3,
   "metadata": {},
   "outputs": [],
   "source": [
    "np.save('dgl_models/final/1_2_3_sum.npy', result)"
   ]
  },
  {
   "cell_type": "code",
   "execution_count": 4,
   "metadata": {},
   "outputs": [],
   "source": [
    "import pandas as pd\n",
    "import pickle\n",
    "import os\n",
    "\n",
    "def id2name(x):\n",
    "    return chr(x + 65)\n",
    "\n",
    "# 保存id label\n",
    "k_fold_result = np.mean(result, axis=0)\n",
    "result = np.argmax(k_fold_result, axis=-1)\n",
    "\n",
    "with open('final_dataset/order_labels/label_split1.pkl', 'rb') as f:\n",
    "    label_data = pickle.load(f)\n",
    "    test_nid = label_data['test_label_idx']\n",
    "df = pd.DataFrame({'node_idx': test_nid, 'label': result})\n",
    "\n",
    "nodes_path = os.path.join('final_dataset', 'IDandLabels.csv')\n",
    "nodes_df = pd.read_csv(nodes_path, dtype={'Label': str})\n",
    "df['label'] = df['label'].apply(id2name)\n",
    "mged = pd.merge(df, nodes_df[['node_idx', 'paper_id']], on='node_idx', how='left')\n",
    "\n",
    "result_csv = 'dgl_models/final/1_2_3_sum.csv'\n",
    "pd.DataFrame({'id': mged['paper_id'], 'label': mged['label']}).to_csv(result_csv, index=False)"
   ]
  },
  {
   "cell_type": "code",
   "execution_count": 6,
   "metadata": {},
   "outputs": [
    {
     "data": {
      "text/plain": [
       "(1691144, 2)"
      ]
     },
     "execution_count": 6,
     "metadata": {},
     "output_type": "execute_result"
    }
   ],
   "source": [
    "data = pd.read_csv('dgl_models/final/1_2_3_sum.csv')\n",
    "data.shape"
   ]
  }
 ],
 "metadata": {
  "interpreter": {
   "hash": "ac007c43b7748f2e049860b84b3cf6ee60a08ce0354623fe8c77b3c79004c655"
  },
  "kernelspec": {
   "display_name": "Python 3.8.12 64-bit ('maxp_dgl': conda)",
   "language": "python",
   "name": "python3"
  },
  "language_info": {
   "codemirror_mode": {
    "name": "ipython",
    "version": 3
   },
   "file_extension": ".py",
   "mimetype": "text/x-python",
   "name": "python",
   "nbconvert_exporter": "python",
   "pygments_lexer": "ipython3",
   "version": "3.8.12"
  },
  "orig_nbformat": 4
 },
 "nbformat": 4,
 "nbformat_minor": 2
}
