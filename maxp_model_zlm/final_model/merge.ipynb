{
 "cells": [
  {
   "cell_type": "code",
   "execution_count": 10,
   "metadata": {},
   "outputs": [
    {
     "data": {
      "text/plain": [
       "((4, 1691144, 23), (5, 1691144, 23), (5, 1691144, 23))"
      ]
     },
     "execution_count": 10,
     "metadata": {},
     "output_type": "execute_result"
    }
   ],
   "source": [
    "import numpy as np\n",
    "path_1 = 'dgl_models/final/deepwalk1_gat1_se/deepwalk1_gat1_se_4_fold.npy'\n",
    "path_2 = 'dgl_models/final/deepwalk1_gatv2_attn_order.npy'\n",
    "path_3 = 'dgl_models/final/unicmp_shuffle_labels_edges10_deepwalk_gatv2_softmax.npy'\n",
    "result_1 = np.load(path_1)\n",
    "result_2 = np.load(path_2)\n",
    "result_3 = np.load(path_3)\n",
    "result_1.shape, result_2.shape, result_3.shape"
   ]
  },
  {
   "cell_type": "code",
   "execution_count": 11,
   "metadata": {},
   "outputs": [
    {
     "data": {
      "text/plain": [
       "(1691144, 23)"
      ]
     },
     "execution_count": 11,
     "metadata": {},
     "output_type": "execute_result"
    }
   ],
   "source": [
    "result_1 = np.mean(result_1[:4], axis=0)\n",
    "result_2 = np.mean(result_2[:4], axis=0)\n",
    "result_3 = np.mean(result_3[:5], axis=0)\n",
    "result = result_1 + result_2 + result_3\n",
    "result.shape"
   ]
  },
  {
   "cell_type": "code",
   "execution_count": 12,
   "metadata": {},
   "outputs": [
    {
     "data": {
      "text/plain": [
       "array([[2.07364822e-03, 1.12155966e-02, 2.22843616e-01, 2.24821396e-01,\n",
       "        1.28207993e-03, 5.97679615e-01, 2.01356403e-02, 4.01479299e-01,\n",
       "        1.83932341e-02, 1.28369170e-02, 9.36233887e-03, 6.75681866e-02,\n",
       "        9.65934496e-01, 1.25397765e-01, 3.74105122e-02, 9.09426756e-02,\n",
       "        5.66888085e-04, 9.42446015e-02, 2.33998912e-02, 3.34378290e-03,\n",
       "        5.19227269e-03, 2.98361778e-03, 6.08918667e-02],\n",
       "       [2.37284297e-04, 9.70575119e-02, 9.48611226e-01, 1.40291304e-02,\n",
       "        3.33254877e-02, 4.18025834e-01, 5.40475907e-03, 1.18216462e-01,\n",
       "        5.44283704e-03, 2.10909053e-02, 9.29989605e-02, 4.89184782e-02,\n",
       "        7.31562968e-01, 1.48633234e-01, 1.51163931e-02, 1.06846057e-01,\n",
       "        6.29158893e-03, 6.00153180e-02, 8.34536781e-03, 1.70063754e-03,\n",
       "        9.84053683e-03, 7.82948107e-02, 2.99942071e-02],\n",
       "       [6.61769187e-05, 8.49954719e-02, 1.44852886e-01, 5.88789429e-02,\n",
       "        1.56809681e-01, 4.65599445e-03, 2.63507618e-02, 6.22499643e-02,\n",
       "        1.26133751e-02, 4.55635997e-03, 5.66621882e-02, 1.45394764e-01,\n",
       "        4.71558280e-02, 1.37949957e+00, 1.22896407e-03, 2.67270344e-01,\n",
       "        9.50627476e-03, 6.46852443e-03, 1.34143403e-01, 8.33581652e-04,\n",
       "        3.56562808e-02, 3.58178979e-01, 1.97167070e-03]])"
      ]
     },
     "execution_count": 12,
     "metadata": {},
     "output_type": "execute_result"
    }
   ],
   "source": [
    "result[:3]"
   ]
  },
  {
   "cell_type": "code",
   "execution_count": 13,
   "metadata": {},
   "outputs": [],
   "source": [
    "np.save('dgl_models/final/1_2_3_sum.npy', result)"
   ]
  },
  {
   "cell_type": "code",
   "execution_count": 14,
   "metadata": {},
   "outputs": [],
   "source": [
    "import pandas as pd\n",
    "import pickle\n",
    "import os\n",
    "\n",
    "def id2name(x):\n",
    "    return chr(x + 65)\n",
    "\n",
    "# 保存id label\n",
    "result = np.argmax(result, axis=-1)\n",
    "\n",
    "with open('final_dataset/order_labels/label_split1.pkl', 'rb') as f:\n",
    "    label_data = pickle.load(f)\n",
    "    test_nid = label_data['test_label_idx']\n",
    "df = pd.DataFrame({'node_idx': test_nid, 'label': result})\n",
    "\n",
    "nodes_path = os.path.join('final_dataset', 'IDandLabels.csv')\n",
    "nodes_df = pd.read_csv(nodes_path, dtype={'Label': str})\n",
    "df['label'] = df['label'].apply(id2name)\n",
    "mged = pd.merge(df, nodes_df[['node_idx', 'paper_id']], on='node_idx', how='left')\n",
    "\n",
    "result_csv = 'dgl_models/final/1_2_3_merge.csv'\n",
    "pd.DataFrame({'id': mged['paper_id'], 'label': mged['label']}).to_csv(result_csv, index=False)"
   ]
  },
  {
   "cell_type": "code",
   "execution_count": 15,
   "metadata": {},
   "outputs": [
    {
     "data": {
      "text/html": [
       "<div>\n",
       "<style scoped>\n",
       "    .dataframe tbody tr th:only-of-type {\n",
       "        vertical-align: middle;\n",
       "    }\n",
       "\n",
       "    .dataframe tbody tr th {\n",
       "        vertical-align: top;\n",
       "    }\n",
       "\n",
       "    .dataframe thead th {\n",
       "        text-align: right;\n",
       "    }\n",
       "</style>\n",
       "<table border=\"1\" class=\"dataframe\">\n",
       "  <thead>\n",
       "    <tr style=\"text-align: right;\">\n",
       "      <th></th>\n",
       "      <th>id</th>\n",
       "      <th>label</th>\n",
       "    </tr>\n",
       "  </thead>\n",
       "  <tbody>\n",
       "    <tr>\n",
       "      <th>0</th>\n",
       "      <td>1f144e8a8561f0631aa82a95fdf25b6f</td>\n",
       "      <td>M</td>\n",
       "    </tr>\n",
       "    <tr>\n",
       "      <th>1</th>\n",
       "      <td>e7699b6c4a42e604e9fa5bdf6588008f</td>\n",
       "      <td>C</td>\n",
       "    </tr>\n",
       "    <tr>\n",
       "      <th>2</th>\n",
       "      <td>9c76b581329b63e25d416977f2624790</td>\n",
       "      <td>N</td>\n",
       "    </tr>\n",
       "    <tr>\n",
       "      <th>3</th>\n",
       "      <td>0098c636c99bcedcf7c94a5054abcff5</td>\n",
       "      <td>N</td>\n",
       "    </tr>\n",
       "    <tr>\n",
       "      <th>4</th>\n",
       "      <td>aa9b18d6c5e59880b61af3cde116d965</td>\n",
       "      <td>S</td>\n",
       "    </tr>\n",
       "  </tbody>\n",
       "</table>\n",
       "</div>"
      ],
      "text/plain": [
       "                                 id label\n",
       "0  1f144e8a8561f0631aa82a95fdf25b6f     M\n",
       "1  e7699b6c4a42e604e9fa5bdf6588008f     C\n",
       "2  9c76b581329b63e25d416977f2624790     N\n",
       "3  0098c636c99bcedcf7c94a5054abcff5     N\n",
       "4  aa9b18d6c5e59880b61af3cde116d965     S"
      ]
     },
     "execution_count": 15,
     "metadata": {},
     "output_type": "execute_result"
    }
   ],
   "source": [
    "data = pd.read_csv('dgl_models/final/1_2_3_merge.csv')\n",
    "data.shape\n",
    "data.head()"
   ]
  },
  {
   "cell_type": "code",
   "execution_count": null,
   "metadata": {},
   "outputs": [],
   "source": []
  }
 ],
 "metadata": {
  "interpreter": {
   "hash": "ac007c43b7748f2e049860b84b3cf6ee60a08ce0354623fe8c77b3c79004c655"
  },
  "kernelspec": {
   "display_name": "Python 3.8.12 64-bit ('maxp_dgl': conda)",
   "language": "python",
   "name": "python3"
  },
  "language_info": {
   "codemirror_mode": {
    "name": "ipython",
    "version": 3
   },
   "file_extension": ".py",
   "mimetype": "text/x-python",
   "name": "python",
   "nbconvert_exporter": "python",
   "pygments_lexer": "ipython3",
   "version": "3.8.12"
  },
  "orig_nbformat": 4
 },
 "nbformat": 4,
 "nbformat_minor": 2
}
