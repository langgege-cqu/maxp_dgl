{
 "cells": [
  {
   "cell_type": "code",
   "execution_count": 7,
   "metadata": {},
   "outputs": [
    {
     "data": {
      "text/plain": [
       "(3655452, 23)"
      ]
     },
     "execution_count": 7,
     "metadata": {},
     "output_type": "execute_result"
    }
   ],
   "source": [
    "import numpy as np\n",
    "model_predict = np.load('dataset/unicmp_gatv2_edge_all.npy')\n",
    "np.set_printoptions(suppress=True)\n",
    "model_predict.shape"
   ]
  },
  {
   "cell_type": "code",
   "execution_count": 16,
   "metadata": {},
   "outputs": [
    {
     "data": {
      "text/plain": [
       "((3655452,), (3655452,))"
      ]
     },
     "execution_count": 16,
     "metadata": {},
     "output_type": "execute_result"
    }
   ],
   "source": [
    "max_probs = np.max(model_predict, axis=-1)\n",
    "model_predict_label = np.argmax(model_predict, axis=-1)\n",
    "max_probs.shape, model_predict_label.shape"
   ]
  },
  {
   "cell_type": "code",
   "execution_count": 9,
   "metadata": {},
   "outputs": [
    {
     "data": {
      "image/png": "[encoded data removed]",
      "text/plain": [
       "<Figure size 432x288 with 1 Axes>"
      ]
     },
     "metadata": {
      "needs_background": "light"
     },
     "output_type": "display_data"
    }
   ],
   "source": [
    "import matplotlib.pyplot as plt\n",
    "plt.hist(max_probs, bins=100)\n",
    "plt.show()"
   ]
  },
  {
   "cell_type": "code",
   "execution_count": 36,
   "metadata": {},
   "outputs": [
    {
     "data": {
      "text/plain": [
       "(3655452,)"
      ]
     },
     "execution_count": 36,
     "metadata": {},
     "output_type": "execute_result"
    }
   ],
   "source": [
    "import pickle\n",
    "import os\n",
    "base_path='./dataset'\n",
    "with open(os.path.join(base_path, 'k_fold_labels.pkl'), 'rb') as f:\n",
    "    label_data = pickle.load(f)\n",
    "    labels = label_data['label']\n",
    "    test_label_idx = label_data['test_label_idx']\n",
    "labels.shape"
   ]
  },
  {
   "cell_type": "code",
   "execution_count": 10,
   "metadata": {},
   "outputs": [
    {
     "data": {
      "text/plain": [
       "(3655452, 2, 24)"
      ]
     },
     "execution_count": 10,
     "metadata": {},
     "output_type": "execute_result"
    }
   ],
   "source": [
    "base_path='./dataset'\n",
    "neighbors_class_count = np.load(os.path.join(base_path, 'neighbors_class_count.npy'))\n",
    "neighbors_class_count.shape"
   ]
  },
  {
   "cell_type": "code",
   "execution_count": 12,
   "metadata": {},
   "outputs": [
    {
     "data": {
      "text/plain": [
       "((3655452,), (3655452,))"
      ]
     },
     "execution_count": 12,
     "metadata": {},
     "output_type": "execute_result"
    }
   ],
   "source": [
    "edge_num = np.sum(neighbors_class_count.reshape((-1,48)), axis=-1) # 每个点的边的个数\n",
    "class_edge_num = np.sum(neighbors_class_count[:,:,:23].reshape((-1,46)), axis=-1) # 每个点有标签的边的个数\n",
    "edge_num.shape, class_edge_num.shape"
   ]
  },
  {
   "cell_type": "code",
   "execution_count": 13,
   "metadata": {},
   "outputs": [
    {
     "data": {
      "text/plain": [
       "(2611035, 1741613)"
      ]
     },
     "execution_count": 13,
     "metadata": {},
     "output_type": "execute_result"
    }
   ],
   "source": [
    "# 自己没有标签 但是周围有标签的\n",
    "# 260w自己没标签其中174W周围有标签\n",
    "c1 = labels==-1\n",
    "c2 = class_edge_num!=0\n",
    "c3 = c1*c2\n",
    "np.sum(c1), np.sum(c3)"
   ]
  },
  {
   "cell_type": "code",
   "execution_count": 18,
   "metadata": {},
   "outputs": [
    {
     "data": {
      "text/plain": [
       "(3655452,)"
      ]
     },
     "execution_count": 18,
     "metadata": {},
     "output_type": "execute_result"
    }
   ],
   "source": [
    "label_count = np.sum(neighbors_class_count[:,:,:23],-2) # 去除无标签统计\n",
    "max_num_label_all_rate = np.max(label_count, axis=-1)/(edge_num+0.1)\n",
    "max_num_label_all_rate.shape"
   ]
  },
  {
   "cell_type": "code",
   "execution_count": 19,
   "metadata": {},
   "outputs": [
    {
     "data": {
      "text/plain": [
       "(3655452,)"
      ]
     },
     "execution_count": 19,
     "metadata": {},
     "output_type": "execute_result"
    }
   ],
   "source": [
    "neighbors_max_label = np.argmax(label_count, axis=-1)\n",
    "neighbors_max_label.shape"
   ]
  },
  {
   "cell_type": "code",
   "execution_count": 26,
   "metadata": {},
   "outputs": [],
   "source": [
    "c4 = neighbors_max_label == model_predict_label\n",
    "c5 = max_num_label_all_rate>=0.5"
   ]
  },
  {
   "cell_type": "code",
   "execution_count": 17,
   "metadata": {},
   "outputs": [
    {
     "data": {
      "text/plain": [
       "(639996, 926208)"
      ]
     },
     "execution_count": 17,
     "metadata": {},
     "output_type": "execute_result"
    }
   ],
   "source": [
    "# 无标签且预测大于0.8的 有60w\n",
    "# 无标签且预测大于0.7的 有90w\n",
    "np.sum((max_probs>0.8)*c1), np.sum((max_probs>0.7)*c1)"
   ]
  },
  {
   "cell_type": "code",
   "execution_count": 44,
   "metadata": {},
   "outputs": [
    {
     "data": {
      "text/plain": [
       "(73873, 88558, 101776, 112654)"
      ]
     },
     "execution_count": 44,
     "metadata": {},
     "output_type": "execute_result"
    }
   ],
   "source": [
    "# 无标签且预测大于0.8的 且周围最大标签相一致至 有60w\n",
    "# 无标签且预测大于0.7的 且周围最大标签相一致至 有90w\n",
    "np.sum((max_probs>0.8)*c1*c4*c5), np.sum((max_probs>0.7)*c1*c4*c5), np.sum((max_probs>0.6)*c1*c4*c5), np.sum((max_probs>0.5)*c1*c4*c5)"
   ]
  },
  {
   "cell_type": "code",
   "execution_count": 33,
   "metadata": {},
   "outputs": [
    {
     "data": {
      "text/plain": [
       "(3655452,)"
      ]
     },
     "execution_count": 33,
     "metadata": {},
     "output_type": "execute_result"
    }
   ],
   "source": [
    "new_labels = np.array(labels)\n",
    "new_labels.shape"
   ]
  },
  {
   "cell_type": "code",
   "execution_count": 45,
   "metadata": {},
   "outputs": [
    {
     "data": {
      "text/plain": [
       "(2611035, 2498381)"
      ]
     },
     "execution_count": 45,
     "metadata": {},
     "output_type": "execute_result"
    }
   ],
   "source": [
    "# 打10w的标签\n",
    "label_condition = (max_probs>0.5)*c1*c4*c5\n",
    "new_labels[label_condition] = neighbors_max_label[label_condition]\n",
    "np.sum(labels==-1), np.sum(new_labels==-1)"
   ]
  },
  {
   "cell_type": "code",
   "execution_count": 46,
   "metadata": {},
   "outputs": [],
   "source": [
    "np.save('dataset/new_labels',new_labels)"
   ]
  },
  {
   "cell_type": "code",
   "execution_count": 47,
   "metadata": {},
   "outputs": [
    {
     "data": {
      "text/plain": [
       "6352"
      ]
     },
     "execution_count": 47,
     "metadata": {},
     "output_type": "execute_result"
    }
   ],
   "source": [
    "# 预测和周围完全不同的个数\n",
    "c6 = neighbors_max_label != model_predict_label\n",
    "np.sum((max_probs>0.6)*c1*c6*c5)"
   ]
  },
  {
   "cell_type": "code",
   "execution_count": 48,
   "metadata": {},
   "outputs": [],
   "source": [
    "test_c = np.zeros(labels.shape)\n",
    "test_c[test_label_idx] = 1\n",
    "test_c = np.array(test_c, dtype=np.bool)"
   ]
  },
  {
   "cell_type": "code",
   "execution_count": 49,
   "metadata": {},
   "outputs": [
    {
     "data": {
      "text/plain": [
       "39452"
      ]
     },
     "execution_count": 49,
     "metadata": {},
     "output_type": "execute_result"
    }
   ],
   "source": [
    "# 测试集中打标签的数量 60w/300w = 0.2 0.2*10w=2w\n",
    "np.sum(test_c*label_condition)"
   ]
  }
 ],
 "metadata": {
  "interpreter": {
   "hash": "a9b533eabee0874e3229f367e8ff4db86a6869b1260c5f209b8b01bcf670b341"
  },
  "kernelspec": {
   "display_name": "Python 3.8.10 64-bit ('.venv': venv)",
   "language": "python",
   "name": "python3"
  },
  "language_info": {
   "codemirror_mode": {
    "name": "ipython",
    "version": 3
   },
   "file_extension": ".py",
   "mimetype": "text/x-python",
   "name": "python",
   "nbconvert_exporter": "python",
   "pygments_lexer": "ipython3",
   "version": "3.8.10"
  },
  "orig_nbformat": 4
 },
 "nbformat": 4,
 "nbformat_minor": 2
}
