{
 "cells": [
  {
   "cell_type": "code",
   "execution_count": 1,
   "metadata": {},
   "outputs": [
    {
     "name": "stderr",
     "output_type": "stream",
     "text": [
      "[10:26:44] Using backend: pytorch\n",
      "/opt/dgl/src/runtime/tensordispatch.cc:43: TensorDispatcher: dlopen failed: libtorch_cuda_cpp.so: cannot open shared object file: No such file or directory\n"
     ]
    }
   ],
   "source": [
    "# 统计一阶邻居分类个数\n",
    "import dgl\n",
    "import os \n",
    "from multiprocessing import Pool\n",
    "import pickle\n",
    "import torch\n",
    "import numpy as np"
   ]
  },
  {
   "cell_type": "code",
   "execution_count": 2,
   "metadata": {},
   "outputs": [],
   "source": [
    "base_path='./dataset'\n",
    "graphs, _ = dgl.load_graphs(os.path.join(base_path, 'graph.bin'))\n",
    "graph = graphs[0]\n",
    "# graph = dgl.add_self_loop(graph)"
   ]
  },
  {
   "cell_type": "code",
   "execution_count": 3,
   "metadata": {},
   "outputs": [],
   "source": [
    "with open(os.path.join(base_path, 'k_fold_labels.pkl'), 'rb') as f:\n",
    "    label_data = pickle.load(f)\n",
    "    labels = label_data['label']"
   ]
  },
  {
   "cell_type": "code",
   "execution_count": 4,
   "metadata": {},
   "outputs": [],
   "source": [
    "# test_num = 2000\n",
    "test_num = graphs[0].num_nodes()\n",
    "nids = range(test_num)"
   ]
  },
  {
   "cell_type": "code",
   "execution_count": 6,
   "metadata": {},
   "outputs": [],
   "source": [
    "def count_map(nid):\n",
    "    g_out = dgl.sampling.sample_neighbors(graph, [nid], -1, edge_dir='out')\n",
    "    g_in = dgl.sampling.sample_neighbors(graph, [nid], -1, edge_dir='in')\n",
    "    src_out, dst_out = g_out.all_edges()\n",
    "    src_in, dst_in = g_in.all_edges()\n",
    "    # ids = torch.cat((dst_out, src_in), dim=-1).numpy()\n",
    "    # ids = list(set(ids))\n",
    "    in_labs = labels[src_in].reshape((-1))\n",
    "    out_labs = labels[dst_out].reshape((-1))\n",
    "    print(nid, dst_out, src_in)\n",
    "    count_in = np.zeros(24)\n",
    "    count_out = np.zeros(24)\n",
    "    for i in in_labs:\n",
    "        if i == -1:\n",
    "            count_in[23]+=1\n",
    "        else:\n",
    "            count_in[i]+=1\n",
    "    for i in out_labs:\n",
    "        if i == -1:\n",
    "            count_out[23]+=1\n",
    "        else:\n",
    "            count_out[i]+=1\n",
    "    return [count_in, count_out]"
   ]
  },
  {
   "cell_type": "code",
   "execution_count": 9,
   "metadata": {},
   "outputs": [
    {
     "name": "stdout",
     "output_type": "stream",
     "text": [
      "10 tensor([ 364306, 1739031, 2149841, 1579857,  953930, 2574863,  434964, 3020196,\n",
      "         348955,  890230, 1616426, 1535164, 1957584,  951120, 1722732,  420833,\n",
      "         219955]) tensor([2038534, 2234690, 3099699, 1833938,  845227, 1642848, 1024894])\n"
     ]
    },
    {
     "data": {
      "text/plain": [
       "[array([0., 0., 0., 0., 0., 0., 0., 0., 0., 0., 0., 0., 0., 0., 0., 0., 1.,\n",
       "        0., 0., 0., 0., 0., 0., 6.]),\n",
       " array([ 0.,  0.,  0.,  0.,  0.,  0.,  0.,  0.,  0.,  0.,  0.,  0.,  2.,\n",
       "         0.,  0.,  0.,  0.,  0.,  0.,  0.,  0.,  0.,  0., 15.])]"
      ]
     },
     "execution_count": 9,
     "metadata": {},
     "output_type": "execute_result"
    }
   ],
   "source": [
    "count_map(10)"
   ]
  },
  {
   "cell_type": "code",
   "execution_count": 33,
   "metadata": {},
   "outputs": [
    {
     "data": {
      "text/plain": [
       "(3655452, 2, 24)"
      ]
     },
     "execution_count": 33,
     "metadata": {},
     "output_type": "execute_result"
    }
   ],
   "source": [
    "result = []\n",
    "for nid in nids:\n",
    "    result.append(count_map(nid))\n",
    "result = np.array(result)\n",
    "np.save(os.path.join(base_path, 'neighbors_class_count.npy'), result)\n",
    "result.shape"
   ]
  },
  {
   "cell_type": "code",
   "execution_count": 5,
   "metadata": {},
   "outputs": [],
   "source": [
    "base_path='./dataset'"
   ]
  },
  {
   "cell_type": "code",
   "execution_count": null,
   "metadata": {},
   "outputs": [],
   "source": []
  },
  {
   "cell_type": "code",
   "execution_count": 6,
   "metadata": {},
   "outputs": [
    {
     "data": {
      "text/plain": [
       "(3655452, 2, 24)"
      ]
     },
     "execution_count": 6,
     "metadata": {},
     "output_type": "execute_result"
    }
   ],
   "source": [
    "import pandas as pd\n",
    "import numpy as np\n",
    "result = np.load(os.path.join(base_path, 'neighbors_class_count.npy'))\n",
    "result.shape"
   ]
  },
  {
   "cell_type": "code",
   "execution_count": 20,
   "metadata": {},
   "outputs": [
    {
     "data": {
      "text/plain": [
       "array([0., 0., 0., 0., 0., 0., 0., 0., 0., 0., 0., 0., 0., 0., 0., 0., 0.,\n",
       "       0., 0., 0., 0., 0., 0., 0.])"
      ]
     },
     "execution_count": 20,
     "metadata": {},
     "output_type": "execute_result"
    }
   ],
   "source": [
    "result1 = np.sum(result,axis=-2)\n",
    "result1[0]"
   ]
  },
  {
   "cell_type": "code",
   "execution_count": 25,
   "metadata": {},
   "outputs": [
    {
     "data": {
      "text/plain": [
       "(3031367, 1)"
      ]
     },
     "execution_count": 25,
     "metadata": {},
     "output_type": "execute_result"
    }
   ],
   "source": [
    "result2 = np.sum(result1,axis=-1)\n",
    "index2 = np.argwhere(result2>0)\n",
    "index2.shape"
   ]
  },
  {
   "cell_type": "code",
   "execution_count": 26,
   "metadata": {},
   "outputs": [],
   "source": [
    "result3 = result[index2]"
   ]
  },
  {
   "cell_type": "code",
   "execution_count": 34,
   "metadata": {},
   "outputs": [
    {
     "data": {
      "text/plain": [
       "array([[[0., 0., 0., 0., 0., 0., 0., 0., 0., 0., 0., 0., 0., 0., 0., 0.,\n",
       "         0., 0., 0., 0., 0., 0., 0., 2.],\n",
       "        [0., 0., 0., 0., 0., 0., 0., 0., 0., 0., 0., 1., 0., 2., 0., 0.,\n",
       "         0., 0., 0., 0., 0., 0., 0., 6.]]])"
      ]
     },
     "execution_count": 34,
     "metadata": {},
     "output_type": "execute_result"
    }
   ],
   "source": [
    "result3[31]"
   ]
  },
  {
   "cell_type": "code",
   "execution_count": 42,
   "metadata": {},
   "outputs": [
    {
     "data": {
      "text/plain": [
       "(3655452, 48)"
      ]
     },
     "execution_count": 42,
     "metadata": {},
     "output_type": "execute_result"
    }
   ],
   "source": [
    "result_1 = result.reshape((-1, 48))\n",
    "result_1.shape"
   ]
  },
  {
   "cell_type": "code",
   "execution_count": 47,
   "metadata": {},
   "outputs": [],
   "source": [
    "df = pd.DataFrame(result_1, columns=list(range(24))+list(range(24)))"
   ]
  },
  {
   "cell_type": "code",
   "execution_count": 49,
   "metadata": {},
   "outputs": [],
   "source": [
    "desc = df.describe()"
   ]
  },
  {
   "cell_type": "code",
   "execution_count": 55,
   "metadata": {},
   "outputs": [
    {
     "data": {
      "text/html": [
       "<div>\n",
       "<style scoped>\n",
       "    .dataframe tbody tr th:only-of-type {\n",
       "        vertical-align: middle;\n",
       "    }\n",
       "\n",
       "    .dataframe tbody tr th {\n",
       "        vertical-align: top;\n",
       "    }\n",
       "\n",
       "    .dataframe thead th {\n",
       "        text-align: right;\n",
       "    }\n",
       "</style>\n",
       "<table border=\"1\" class=\"dataframe\">\n",
       "  <thead>\n",
       "    <tr style=\"text-align: right;\">\n",
       "      <th></th>\n",
       "      <th>0</th>\n",
       "      <th>1</th>\n",
       "      <th>2</th>\n",
       "      <th>3</th>\n",
       "      <th>4</th>\n",
       "      <th>5</th>\n",
       "      <th>6</th>\n",
       "      <th>7</th>\n",
       "      <th>8</th>\n",
       "      <th>9</th>\n",
       "      <th>...</th>\n",
       "      <th>14</th>\n",
       "      <th>15</th>\n",
       "      <th>16</th>\n",
       "      <th>17</th>\n",
       "      <th>18</th>\n",
       "      <th>19</th>\n",
       "      <th>20</th>\n",
       "      <th>21</th>\n",
       "      <th>22</th>\n",
       "      <th>23</th>\n",
       "    </tr>\n",
       "  </thead>\n",
       "  <tbody>\n",
       "    <tr>\n",
       "      <th>count</th>\n",
       "      <td>3.655452e+06</td>\n",
       "      <td>3.655452e+06</td>\n",
       "      <td>3.655452e+06</td>\n",
       "      <td>3.655452e+06</td>\n",
       "      <td>3.655452e+06</td>\n",
       "      <td>3.655452e+06</td>\n",
       "      <td>3.655452e+06</td>\n",
       "      <td>3.655452e+06</td>\n",
       "      <td>3.655452e+06</td>\n",
       "      <td>3.655452e+06</td>\n",
       "      <td>...</td>\n",
       "      <td>3.655452e+06</td>\n",
       "      <td>3.655452e+06</td>\n",
       "      <td>3.655452e+06</td>\n",
       "      <td>3.655452e+06</td>\n",
       "      <td>3.655452e+06</td>\n",
       "      <td>3.655452e+06</td>\n",
       "      <td>3.655452e+06</td>\n",
       "      <td>3.655452e+06</td>\n",
       "      <td>3.655452e+06</td>\n",
       "      <td>3.655452e+06</td>\n",
       "    </tr>\n",
       "    <tr>\n",
       "      <th>mean</th>\n",
       "      <td>8.020349e-03</td>\n",
       "      <td>1.160538e-01</td>\n",
       "      <td>2.088226e-01</td>\n",
       "      <td>2.438322e-01</td>\n",
       "      <td>1.441324e-01</td>\n",
       "      <td>1.055664e-01</td>\n",
       "      <td>6.190124e-02</td>\n",
       "      <td>1.279530e-01</td>\n",
       "      <td>5.393341e-02</td>\n",
       "      <td>4.530548e-02</td>\n",
       "      <td>...</td>\n",
       "      <td>4.107098e-02</td>\n",
       "      <td>9.471469e-02</td>\n",
       "      <td>7.206687e-02</td>\n",
       "      <td>7.563989e-02</td>\n",
       "      <td>3.997727e-02</td>\n",
       "      <td>4.088167e-02</td>\n",
       "      <td>9.794630e-02</td>\n",
       "      <td>1.455694e-01</td>\n",
       "      <td>4.092025e-02</td>\n",
       "      <td>4.873557e+00</td>\n",
       "    </tr>\n",
       "    <tr>\n",
       "      <th>std</th>\n",
       "      <td>1.843208e-01</td>\n",
       "      <td>1.721802e+00</td>\n",
       "      <td>2.537638e+00</td>\n",
       "      <td>3.935248e+00</td>\n",
       "      <td>3.501663e+00</td>\n",
       "      <td>1.519428e+00</td>\n",
       "      <td>6.730180e-01</td>\n",
       "      <td>1.063501e+00</td>\n",
       "      <td>9.311184e-01</td>\n",
       "      <td>5.110139e-01</td>\n",
       "      <td>...</td>\n",
       "      <td>3.706920e-01</td>\n",
       "      <td>6.977154e-01</td>\n",
       "      <td>6.089858e-01</td>\n",
       "      <td>4.690872e-01</td>\n",
       "      <td>5.385749e-01</td>\n",
       "      <td>3.796552e-01</td>\n",
       "      <td>7.544427e-01</td>\n",
       "      <td>8.290626e-01</td>\n",
       "      <td>3.603732e-01</td>\n",
       "      <td>7.149208e+00</td>\n",
       "    </tr>\n",
       "    <tr>\n",
       "      <th>min</th>\n",
       "      <td>0.000000e+00</td>\n",
       "      <td>0.000000e+00</td>\n",
       "      <td>0.000000e+00</td>\n",
       "      <td>0.000000e+00</td>\n",
       "      <td>0.000000e+00</td>\n",
       "      <td>0.000000e+00</td>\n",
       "      <td>0.000000e+00</td>\n",
       "      <td>0.000000e+00</td>\n",
       "      <td>0.000000e+00</td>\n",
       "      <td>0.000000e+00</td>\n",
       "      <td>...</td>\n",
       "      <td>0.000000e+00</td>\n",
       "      <td>0.000000e+00</td>\n",
       "      <td>0.000000e+00</td>\n",
       "      <td>0.000000e+00</td>\n",
       "      <td>0.000000e+00</td>\n",
       "      <td>0.000000e+00</td>\n",
       "      <td>0.000000e+00</td>\n",
       "      <td>0.000000e+00</td>\n",
       "      <td>0.000000e+00</td>\n",
       "      <td>0.000000e+00</td>\n",
       "    </tr>\n",
       "    <tr>\n",
       "      <th>25%</th>\n",
       "      <td>0.000000e+00</td>\n",
       "      <td>0.000000e+00</td>\n",
       "      <td>0.000000e+00</td>\n",
       "      <td>0.000000e+00</td>\n",
       "      <td>0.000000e+00</td>\n",
       "      <td>0.000000e+00</td>\n",
       "      <td>0.000000e+00</td>\n",
       "      <td>0.000000e+00</td>\n",
       "      <td>0.000000e+00</td>\n",
       "      <td>0.000000e+00</td>\n",
       "      <td>...</td>\n",
       "      <td>0.000000e+00</td>\n",
       "      <td>0.000000e+00</td>\n",
       "      <td>0.000000e+00</td>\n",
       "      <td>0.000000e+00</td>\n",
       "      <td>0.000000e+00</td>\n",
       "      <td>0.000000e+00</td>\n",
       "      <td>0.000000e+00</td>\n",
       "      <td>0.000000e+00</td>\n",
       "      <td>0.000000e+00</td>\n",
       "      <td>0.000000e+00</td>\n",
       "    </tr>\n",
       "    <tr>\n",
       "      <th>50%</th>\n",
       "      <td>0.000000e+00</td>\n",
       "      <td>0.000000e+00</td>\n",
       "      <td>0.000000e+00</td>\n",
       "      <td>0.000000e+00</td>\n",
       "      <td>0.000000e+00</td>\n",
       "      <td>0.000000e+00</td>\n",
       "      <td>0.000000e+00</td>\n",
       "      <td>0.000000e+00</td>\n",
       "      <td>0.000000e+00</td>\n",
       "      <td>0.000000e+00</td>\n",
       "      <td>...</td>\n",
       "      <td>0.000000e+00</td>\n",
       "      <td>0.000000e+00</td>\n",
       "      <td>0.000000e+00</td>\n",
       "      <td>0.000000e+00</td>\n",
       "      <td>0.000000e+00</td>\n",
       "      <td>0.000000e+00</td>\n",
       "      <td>0.000000e+00</td>\n",
       "      <td>0.000000e+00</td>\n",
       "      <td>0.000000e+00</td>\n",
       "      <td>3.000000e+00</td>\n",
       "    </tr>\n",
       "    <tr>\n",
       "      <th>75%</th>\n",
       "      <td>0.000000e+00</td>\n",
       "      <td>0.000000e+00</td>\n",
       "      <td>0.000000e+00</td>\n",
       "      <td>0.000000e+00</td>\n",
       "      <td>0.000000e+00</td>\n",
       "      <td>0.000000e+00</td>\n",
       "      <td>0.000000e+00</td>\n",
       "      <td>0.000000e+00</td>\n",
       "      <td>0.000000e+00</td>\n",
       "      <td>0.000000e+00</td>\n",
       "      <td>...</td>\n",
       "      <td>0.000000e+00</td>\n",
       "      <td>0.000000e+00</td>\n",
       "      <td>0.000000e+00</td>\n",
       "      <td>0.000000e+00</td>\n",
       "      <td>0.000000e+00</td>\n",
       "      <td>0.000000e+00</td>\n",
       "      <td>0.000000e+00</td>\n",
       "      <td>0.000000e+00</td>\n",
       "      <td>0.000000e+00</td>\n",
       "      <td>7.000000e+00</td>\n",
       "    </tr>\n",
       "    <tr>\n",
       "      <th>max</th>\n",
       "      <td>8.000000e+01</td>\n",
       "      <td>1.051000e+03</td>\n",
       "      <td>1.390000e+03</td>\n",
       "      <td>1.693000e+03</td>\n",
       "      <td>2.402000e+03</td>\n",
       "      <td>5.280000e+02</td>\n",
       "      <td>2.250000e+02</td>\n",
       "      <td>3.010000e+02</td>\n",
       "      <td>2.300000e+02</td>\n",
       "      <td>2.030000e+02</td>\n",
       "      <td>...</td>\n",
       "      <td>6.900000e+01</td>\n",
       "      <td>1.350000e+02</td>\n",
       "      <td>7.900000e+01</td>\n",
       "      <td>5.500000e+01</td>\n",
       "      <td>2.020000e+02</td>\n",
       "      <td>5.900000e+01</td>\n",
       "      <td>5.200000e+01</td>\n",
       "      <td>1.900000e+02</td>\n",
       "      <td>4.500000e+01</td>\n",
       "      <td>3.769000e+03</td>\n",
       "    </tr>\n",
       "  </tbody>\n",
       "</table>\n",
       "<p>8 rows × 48 columns</p>\n",
       "</div>"
      ],
      "text/plain": [
       "                 0             1             2             3             4   \\\n",
       "count  3.655452e+06  3.655452e+06  3.655452e+06  3.655452e+06  3.655452e+06   \n",
       "mean   8.020349e-03  1.160538e-01  2.088226e-01  2.438322e-01  1.441324e-01   \n",
       "std    1.843208e-01  1.721802e+00  2.537638e+00  3.935248e+00  3.501663e+00   \n",
       "min    0.000000e+00  0.000000e+00  0.000000e+00  0.000000e+00  0.000000e+00   \n",
       "25%    0.000000e+00  0.000000e+00  0.000000e+00  0.000000e+00  0.000000e+00   \n",
       "50%    0.000000e+00  0.000000e+00  0.000000e+00  0.000000e+00  0.000000e+00   \n",
       "75%    0.000000e+00  0.000000e+00  0.000000e+00  0.000000e+00  0.000000e+00   \n",
       "max    8.000000e+01  1.051000e+03  1.390000e+03  1.693000e+03  2.402000e+03   \n",
       "\n",
       "                 5             6             7             8             9   \\\n",
       "count  3.655452e+06  3.655452e+06  3.655452e+06  3.655452e+06  3.655452e+06   \n",
       "mean   1.055664e-01  6.190124e-02  1.279530e-01  5.393341e-02  4.530548e-02   \n",
       "std    1.519428e+00  6.730180e-01  1.063501e+00  9.311184e-01  5.110139e-01   \n",
       "min    0.000000e+00  0.000000e+00  0.000000e+00  0.000000e+00  0.000000e+00   \n",
       "25%    0.000000e+00  0.000000e+00  0.000000e+00  0.000000e+00  0.000000e+00   \n",
       "50%    0.000000e+00  0.000000e+00  0.000000e+00  0.000000e+00  0.000000e+00   \n",
       "75%    0.000000e+00  0.000000e+00  0.000000e+00  0.000000e+00  0.000000e+00   \n",
       "max    5.280000e+02  2.250000e+02  3.010000e+02  2.300000e+02  2.030000e+02   \n",
       "\n",
       "       ...            14            15            16            17  \\\n",
       "count  ...  3.655452e+06  3.655452e+06  3.655452e+06  3.655452e+06   \n",
       "mean   ...  4.107098e-02  9.471469e-02  7.206687e-02  7.563989e-02   \n",
       "std    ...  3.706920e-01  6.977154e-01  6.089858e-01  4.690872e-01   \n",
       "min    ...  0.000000e+00  0.000000e+00  0.000000e+00  0.000000e+00   \n",
       "25%    ...  0.000000e+00  0.000000e+00  0.000000e+00  0.000000e+00   \n",
       "50%    ...  0.000000e+00  0.000000e+00  0.000000e+00  0.000000e+00   \n",
       "75%    ...  0.000000e+00  0.000000e+00  0.000000e+00  0.000000e+00   \n",
       "max    ...  6.900000e+01  1.350000e+02  7.900000e+01  5.500000e+01   \n",
       "\n",
       "                 18            19            20            21            22  \\\n",
       "count  3.655452e+06  3.655452e+06  3.655452e+06  3.655452e+06  3.655452e+06   \n",
       "mean   3.997727e-02  4.088167e-02  9.794630e-02  1.455694e-01  4.092025e-02   \n",
       "std    5.385749e-01  3.796552e-01  7.544427e-01  8.290626e-01  3.603732e-01   \n",
       "min    0.000000e+00  0.000000e+00  0.000000e+00  0.000000e+00  0.000000e+00   \n",
       "25%    0.000000e+00  0.000000e+00  0.000000e+00  0.000000e+00  0.000000e+00   \n",
       "50%    0.000000e+00  0.000000e+00  0.000000e+00  0.000000e+00  0.000000e+00   \n",
       "75%    0.000000e+00  0.000000e+00  0.000000e+00  0.000000e+00  0.000000e+00   \n",
       "max    2.020000e+02  5.900000e+01  5.200000e+01  1.900000e+02  4.500000e+01   \n",
       "\n",
       "                 23  \n",
       "count  3.655452e+06  \n",
       "mean   4.873557e+00  \n",
       "std    7.149208e+00  \n",
       "min    0.000000e+00  \n",
       "25%    0.000000e+00  \n",
       "50%    3.000000e+00  \n",
       "75%    7.000000e+00  \n",
       "max    3.769000e+03  \n",
       "\n",
       "[8 rows x 48 columns]"
      ]
     },
     "execution_count": 55,
     "metadata": {},
     "output_type": "execute_result"
    }
   ],
   "source": [
    "desc"
   ]
  },
  {
   "cell_type": "code",
   "execution_count": 57,
   "metadata": {},
   "outputs": [
    {
     "data": {
      "text/plain": [
       "0        80.0\n",
       "1      1051.0\n",
       "2      1390.0\n",
       "3      1693.0\n",
       "4      2402.0\n",
       "5       528.0\n",
       "6       225.0\n",
       "7       301.0\n",
       "8       230.0\n",
       "9       203.0\n",
       "10      546.0\n",
       "11      704.0\n",
       "12     1361.0\n",
       "13      485.0\n",
       "14      710.0\n",
       "15      651.0\n",
       "16      264.0\n",
       "17      443.0\n",
       "18      332.0\n",
       "19      385.0\n",
       "20      791.0\n",
       "21      678.0\n",
       "22      160.0\n",
       "23    10117.0\n",
       "0        17.0\n",
       "1       146.0\n",
       "2       247.0\n",
       "3       152.0\n",
       "4      2873.0\n",
       "5       178.0\n",
       "6        77.0\n",
       "7       115.0\n",
       "8       324.0\n",
       "9        84.0\n",
       "10       75.0\n",
       "11      188.0\n",
       "12     1756.0\n",
       "13      119.0\n",
       "14       69.0\n",
       "15      135.0\n",
       "16       79.0\n",
       "17       55.0\n",
       "18      202.0\n",
       "19       59.0\n",
       "20       52.0\n",
       "21      190.0\n",
       "22       45.0\n",
       "23     3769.0\n",
       "Name: max, dtype: float64"
      ]
     },
     "execution_count": 57,
     "metadata": {},
     "output_type": "execute_result"
    }
   ],
   "source": [
    "desc.iloc[-1]"
   ]
  },
  {
   "cell_type": "code",
   "execution_count": 59,
   "metadata": {},
   "outputs": [
    {
     "data": {
      "text/plain": [
       "0     0.008020\n",
       "1     0.116054\n",
       "2     0.208823\n",
       "3     0.243832\n",
       "4     0.144132\n",
       "5     0.105566\n",
       "6     0.061901\n",
       "7     0.127953\n",
       "8     0.053933\n",
       "9     0.045305\n",
       "10    0.058646\n",
       "11    0.116017\n",
       "12    0.202537\n",
       "13    0.137903\n",
       "14    0.048150\n",
       "15    0.096605\n",
       "16    0.038697\n",
       "17    0.089519\n",
       "18    0.030788\n",
       "19    0.048390\n",
       "20    0.071948\n",
       "21    0.102323\n",
       "22    0.033779\n",
       "23    5.788669\n",
       "0     0.011044\n",
       "1     0.166942\n",
       "2     0.270420\n",
       "3     0.327879\n",
       "4     0.252929\n",
       "5     0.165723\n",
       "6     0.066675\n",
       "7     0.258636\n",
       "8     0.077806\n",
       "9     0.049010\n",
       "10    0.065929\n",
       "11    0.216180\n",
       "12    0.359733\n",
       "13    0.168241\n",
       "14    0.041071\n",
       "15    0.094715\n",
       "16    0.072067\n",
       "17    0.075640\n",
       "18    0.039977\n",
       "19    0.040882\n",
       "20    0.097946\n",
       "21    0.145569\n",
       "22    0.040920\n",
       "23    4.873557\n",
       "Name: mean, dtype: float64"
      ]
     },
     "execution_count": 59,
     "metadata": {},
     "output_type": "execute_result"
    }
   ],
   "source": [
    "desc.iloc[1]"
   ]
  },
  {
   "cell_type": "code",
   "execution_count": 60,
   "metadata": {},
   "outputs": [],
   "source": [
    "normalized_df=(df-df.min())/(df.max()-df.min())"
   ]
  },
  {
   "cell_type": "code",
   "execution_count": 61,
   "metadata": {},
   "outputs": [
    {
     "data": {
      "text/html": [
       "<div>\n",
       "<style scoped>\n",
       "    .dataframe tbody tr th:only-of-type {\n",
       "        vertical-align: middle;\n",
       "    }\n",
       "\n",
       "    .dataframe tbody tr th {\n",
       "        vertical-align: top;\n",
       "    }\n",
       "\n",
       "    .dataframe thead th {\n",
       "        text-align: right;\n",
       "    }\n",
       "</style>\n",
       "<table border=\"1\" class=\"dataframe\">\n",
       "  <thead>\n",
       "    <tr style=\"text-align: right;\">\n",
       "      <th></th>\n",
       "      <th>0</th>\n",
       "      <th>1</th>\n",
       "      <th>2</th>\n",
       "      <th>3</th>\n",
       "      <th>4</th>\n",
       "      <th>5</th>\n",
       "      <th>6</th>\n",
       "      <th>7</th>\n",
       "      <th>8</th>\n",
       "      <th>9</th>\n",
       "      <th>...</th>\n",
       "      <th>14</th>\n",
       "      <th>15</th>\n",
       "      <th>16</th>\n",
       "      <th>17</th>\n",
       "      <th>18</th>\n",
       "      <th>19</th>\n",
       "      <th>20</th>\n",
       "      <th>21</th>\n",
       "      <th>22</th>\n",
       "      <th>23</th>\n",
       "    </tr>\n",
       "  </thead>\n",
       "  <tbody>\n",
       "    <tr>\n",
       "      <th>0</th>\n",
       "      <td>0.0</td>\n",
       "      <td>0.000000</td>\n",
       "      <td>0.0</td>\n",
       "      <td>0.0</td>\n",
       "      <td>0.0</td>\n",
       "      <td>0.0</td>\n",
       "      <td>0.000000</td>\n",
       "      <td>0.0</td>\n",
       "      <td>0.000000</td>\n",
       "      <td>0.0</td>\n",
       "      <td>...</td>\n",
       "      <td>0.0</td>\n",
       "      <td>0.0</td>\n",
       "      <td>0.0</td>\n",
       "      <td>0.0</td>\n",
       "      <td>0.0</td>\n",
       "      <td>0.0</td>\n",
       "      <td>0.0</td>\n",
       "      <td>0.0</td>\n",
       "      <td>0.0</td>\n",
       "      <td>0.000000</td>\n",
       "    </tr>\n",
       "    <tr>\n",
       "      <th>1</th>\n",
       "      <td>0.0</td>\n",
       "      <td>0.000000</td>\n",
       "      <td>0.0</td>\n",
       "      <td>0.0</td>\n",
       "      <td>0.0</td>\n",
       "      <td>0.0</td>\n",
       "      <td>0.000000</td>\n",
       "      <td>0.0</td>\n",
       "      <td>0.000000</td>\n",
       "      <td>0.0</td>\n",
       "      <td>...</td>\n",
       "      <td>0.0</td>\n",
       "      <td>0.0</td>\n",
       "      <td>0.0</td>\n",
       "      <td>0.0</td>\n",
       "      <td>0.0</td>\n",
       "      <td>0.0</td>\n",
       "      <td>0.0</td>\n",
       "      <td>0.0</td>\n",
       "      <td>0.0</td>\n",
       "      <td>0.000796</td>\n",
       "    </tr>\n",
       "    <tr>\n",
       "      <th>2</th>\n",
       "      <td>0.0</td>\n",
       "      <td>0.000951</td>\n",
       "      <td>0.0</td>\n",
       "      <td>0.0</td>\n",
       "      <td>0.0</td>\n",
       "      <td>0.0</td>\n",
       "      <td>0.004444</td>\n",
       "      <td>0.0</td>\n",
       "      <td>0.004348</td>\n",
       "      <td>0.0</td>\n",
       "      <td>...</td>\n",
       "      <td>0.0</td>\n",
       "      <td>0.0</td>\n",
       "      <td>0.0</td>\n",
       "      <td>0.0</td>\n",
       "      <td>0.0</td>\n",
       "      <td>0.0</td>\n",
       "      <td>0.0</td>\n",
       "      <td>0.0</td>\n",
       "      <td>0.0</td>\n",
       "      <td>0.002123</td>\n",
       "    </tr>\n",
       "    <tr>\n",
       "      <th>3</th>\n",
       "      <td>0.0</td>\n",
       "      <td>0.000000</td>\n",
       "      <td>0.0</td>\n",
       "      <td>0.0</td>\n",
       "      <td>0.0</td>\n",
       "      <td>0.0</td>\n",
       "      <td>0.000000</td>\n",
       "      <td>0.0</td>\n",
       "      <td>0.000000</td>\n",
       "      <td>0.0</td>\n",
       "      <td>...</td>\n",
       "      <td>0.0</td>\n",
       "      <td>0.0</td>\n",
       "      <td>0.0</td>\n",
       "      <td>0.0</td>\n",
       "      <td>0.0</td>\n",
       "      <td>0.0</td>\n",
       "      <td>0.0</td>\n",
       "      <td>0.0</td>\n",
       "      <td>0.0</td>\n",
       "      <td>0.000000</td>\n",
       "    </tr>\n",
       "    <tr>\n",
       "      <th>4</th>\n",
       "      <td>0.0</td>\n",
       "      <td>0.000000</td>\n",
       "      <td>0.0</td>\n",
       "      <td>0.0</td>\n",
       "      <td>0.0</td>\n",
       "      <td>0.0</td>\n",
       "      <td>0.000000</td>\n",
       "      <td>0.0</td>\n",
       "      <td>0.000000</td>\n",
       "      <td>0.0</td>\n",
       "      <td>...</td>\n",
       "      <td>0.0</td>\n",
       "      <td>0.0</td>\n",
       "      <td>0.0</td>\n",
       "      <td>0.0</td>\n",
       "      <td>0.0</td>\n",
       "      <td>0.0</td>\n",
       "      <td>0.0</td>\n",
       "      <td>0.0</td>\n",
       "      <td>0.0</td>\n",
       "      <td>0.001857</td>\n",
       "    </tr>\n",
       "  </tbody>\n",
       "</table>\n",
       "<p>5 rows × 48 columns</p>\n",
       "</div>"
      ],
      "text/plain": [
       "    0         1    2    3    4    5         6    7         8    9   ...   14  \\\n",
       "0  0.0  0.000000  0.0  0.0  0.0  0.0  0.000000  0.0  0.000000  0.0  ...  0.0   \n",
       "1  0.0  0.000000  0.0  0.0  0.0  0.0  0.000000  0.0  0.000000  0.0  ...  0.0   \n",
       "2  0.0  0.000951  0.0  0.0  0.0  0.0  0.004444  0.0  0.004348  0.0  ...  0.0   \n",
       "3  0.0  0.000000  0.0  0.0  0.0  0.0  0.000000  0.0  0.000000  0.0  ...  0.0   \n",
       "4  0.0  0.000000  0.0  0.0  0.0  0.0  0.000000  0.0  0.000000  0.0  ...  0.0   \n",
       "\n",
       "    15   16   17   18   19   20   21   22        23  \n",
       "0  0.0  0.0  0.0  0.0  0.0  0.0  0.0  0.0  0.000000  \n",
       "1  0.0  0.0  0.0  0.0  0.0  0.0  0.0  0.0  0.000796  \n",
       "2  0.0  0.0  0.0  0.0  0.0  0.0  0.0  0.0  0.002123  \n",
       "3  0.0  0.0  0.0  0.0  0.0  0.0  0.0  0.0  0.000000  \n",
       "4  0.0  0.0  0.0  0.0  0.0  0.0  0.0  0.0  0.001857  \n",
       "\n",
       "[5 rows x 48 columns]"
      ]
     },
     "execution_count": 61,
     "metadata": {},
     "output_type": "execute_result"
    }
   ],
   "source": [
    "normalized_df.head()"
   ]
  },
  {
   "cell_type": "code",
   "execution_count": 62,
   "metadata": {},
   "outputs": [],
   "source": [
    "normalized_np = normalized_df.to_numpy()"
   ]
  },
  {
   "cell_type": "code",
   "execution_count": 1,
   "metadata": {},
   "outputs": [
    {
     "ename": "NameError",
     "evalue": "name 'normalized_np' is not defined",
     "output_type": "error",
     "traceback": [
      "\u001b[0;31m---------------------------------------------------------------------------\u001b[0m",
      "\u001b[0;31mNameError\u001b[0m                                 Traceback (most recent call last)",
      "\u001b[0;32m/tmp/ipykernel_110408/2117529039.py\u001b[0m in \u001b[0;36m<module>\u001b[0;34m\u001b[0m\n\u001b[0;32m----> 1\u001b[0;31m \u001b[0mnormalized_np\u001b[0m\u001b[0;34m[\u001b[0m\u001b[0;36m1\u001b[0m\u001b[0;34m]\u001b[0m\u001b[0;34m\u001b[0m\u001b[0;34m\u001b[0m\u001b[0m\n\u001b[0m",
      "\u001b[0;31mNameError\u001b[0m: name 'normalized_np' is not defined"
     ]
    }
   ],
   "source": [
    "normalized_np[1]"
   ]
  },
  {
   "cell_type": "code",
   "execution_count": 36,
   "metadata": {},
   "outputs": [],
   "source": [
    "normalized_np = np.load('dataset/normalized_neighbors_class_count.npy')"
   ]
  },
  {
   "cell_type": "code",
   "execution_count": 37,
   "metadata": {},
   "outputs": [],
   "source": [
    "normalized_np_2 = normalized_np[index2]"
   ]
  },
  {
   "cell_type": "code",
   "execution_count": 39,
   "metadata": {},
   "outputs": [],
   "source": [
    "normalized_np_2 = normalized_np_2.reshape((-1,2,24))"
   ]
  },
  {
   "cell_type": "code",
   "execution_count": 40,
   "metadata": {},
   "outputs": [
    {
     "data": {
      "text/plain": [
       "(3031367, 2, 24)"
      ]
     },
     "execution_count": 40,
     "metadata": {},
     "output_type": "execute_result"
    }
   ],
   "source": [
    "normalized_np_2.shape"
   ]
  },
  {
   "cell_type": "code",
   "execution_count": 41,
   "metadata": {},
   "outputs": [
    {
     "data": {
      "text/plain": [
       "array([[0.        , 0.00285442, 0.        , 0.        , 0.        ,\n",
       "        0.        , 0.        , 0.        , 0.        , 0.        ,\n",
       "        0.        , 0.        , 0.        , 0.        , 0.        ,\n",
       "        0.        , 0.        , 0.        , 0.        , 0.        ,\n",
       "        0.        , 0.        , 0.        , 0.00059306],\n",
       "       [0.        , 0.        , 0.        , 0.        , 0.00034807,\n",
       "        0.        , 0.01298701, 0.        , 0.        , 0.        ,\n",
       "        0.        , 0.        , 0.        , 0.        , 0.        ,\n",
       "        0.        , 0.        , 0.        , 0.        , 0.        ,\n",
       "        0.        , 0.        , 0.        , 0.00079597]])"
      ]
     },
     "execution_count": 41,
     "metadata": {},
     "output_type": "execute_result"
    }
   ],
   "source": [
    "normalized_np_2[35]"
   ]
  }
 ],
 "metadata": {
  "interpreter": {
   "hash": "a9b533eabee0874e3229f367e8ff4db86a6869b1260c5f209b8b01bcf670b341"
  },
  "kernelspec": {
   "display_name": "Python 3.8.10 64-bit ('.venv': venv)",
   "language": "python",
   "name": "python3"
  },
  "language_info": {
   "codemirror_mode": {
    "name": "ipython",
    "version": 3
   },
   "file_extension": ".py",
   "mimetype": "text/x-python",
   "name": "python",
   "nbconvert_exporter": "python",
   "pygments_lexer": "ipython3",
   "version": "3.8.10"
  },
  "orig_nbformat": 4
 },
 "nbformat": 4,
 "nbformat_minor": 2
}
