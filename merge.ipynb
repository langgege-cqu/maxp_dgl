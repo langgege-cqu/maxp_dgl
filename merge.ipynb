{
 "cells": [
  {
   "cell_type": "code",
   "execution_count": null,
   "id": "touched-minneapolis",
   "metadata": {},
   "outputs": [],
   "source": [
    "import pickle\n",
    "import numpy as np\n",
    "import pandas as pd"
   ]
  },
  {
   "cell_type": "code",
   "execution_count": null,
   "id": "e971e848-6835-45ab-8134-a5717e4ac42a",
   "metadata": {},
   "outputs": [],
   "source": [
    "# 载入每折模型预测的softmax概率\n",
    "data1 = np.load('final_models/deepwalk1/unimp_split1/unimp_split1_epoch24_val6359.npy')\n",
    "data2 = np.load('final_models/deepwalk1/unimp_split2/unimp_split2_epoch25_val6333.npy')\n",
    "data3 = np.load('final_models/deepwalk1/unimp_split3/unimp_split3_epoch24_val6347.npy')\n",
    "data4 = np.load('final_models/deepwalk1/unimp_split4/unimp_split4_epoch25_val6322.npy')\n",
    "data5 = np.load('final_models/deepwalk1/unimp_split5/unimp_split5_epoch17_val6210.npy')\n",
    "data = np.stack([data1, data2, data3, data4, data5], axis=0)"
   ]
  },
  {
   "cell_type": "code",
   "execution_count": null,
   "id": "f0de4a83-e7be-4a4a-b1e0-57f14488a2b1",
   "metadata": {},
   "outputs": [],
   "source": [
    "# 取前4折，第五折效果较差\n",
    "result = np.mean(data[:4], axis=0)"
   ]
  },
  {
   "cell_type": "code",
   "execution_count": null,
   "id": "d87cc6cd-59b9-415f-9bbf-8d64fb40f39d",
   "metadata": {},
   "outputs": [],
   "source": [
    "with open('final_dataset/label.pkl', 'rb') as f:\n",
    "    label_data = pickle.load(f)\n",
    "test_nid = label_data['test_label_idx']\n",
    "\n",
    "nodes_df = pd.read_csv('final_dataset/IDandLabels.csv', dtype={'Label':str})\n",
    "\n",
    "def id2name(x):\n",
    "    return chr(x + 65)"
   ]
  },
  {
   "cell_type": "code",
   "execution_count": null,
   "id": "cfaf0b2f-ddee-4052-9e2d-f2ff52216fe4",
   "metadata": {},
   "outputs": [],
   "source": [
    "df = pd.DataFrame({'node_idx': test_nid, 'label': np.argmax(result, axis=-1)})\n",
    "df['label'] = df['label'].apply(id2name)\n",
    "\n",
    "mged = pd.merge(df, nodes_df[['node_idx', 'paper_id']], on='node_idx', how='left')"
   ]
  },
  {
   "cell_type": "code",
   "execution_count": null,
   "id": "206ffde9-3381-425d-9bd3-a5ba9b329e5c",
   "metadata": {},
   "outputs": [],
   "source": [
    "pd.DataFrame({'id': mged['paper_id'], 'label': mged['label']}).to_csv('merge_order.csv', index=False)"
   ]
  },
  {
   "cell_type": "code",
   "execution_count": null,
   "id": "athletic-welding",
   "metadata": {},
   "outputs": [],
   "source": []
  }
 ],
 "metadata": {
  "kernelspec": {
   "display_name": "Python 3",
   "language": "python",
   "name": "python3"
  },
  "language_info": {
   "codemirror_mode": {
    "name": "ipython",
    "version": 3
   },
   "file_extension": ".py",
   "mimetype": "text/x-python",
   "name": "python",
   "nbconvert_exporter": "python",
   "pygments_lexer": "ipython3",
   "version": "3.7.9"
  }
 },
 "nbformat": 4,
 "nbformat_minor": 5
}
